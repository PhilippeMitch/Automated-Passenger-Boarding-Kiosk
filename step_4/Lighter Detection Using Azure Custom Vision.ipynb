{
 "cells": [
  {
   "cell_type": "code",
   "execution_count": 1,
   "id": "7c6a6f92-484a-42b4-8395-c967d513ac42",
   "metadata": {},
   "outputs": [],
   "source": [
    "import requests\n",
    "from urllib.parse import urlparse\n",
    "from io import BytesIO\n",
    "from PIL import Image, ImageDraw\n",
    "import matplotlib.pyplot as plt\n",
    "import os, time, uuid"
   ]
  },
  {
   "cell_type": "code",
   "execution_count": 2,
   "id": "5ffe7b82-ef6e-4e7b-b29d-63aecb0a0d59",
   "metadata": {},
   "outputs": [],
   "source": [
    "from azure.cognitiveservices.vision.customvision.training import CustomVisionTrainingClient\n",
    "from azure.cognitiveservices.vision.customvision.prediction import CustomVisionPredictionClient\n",
    "from msrest.authentication import ApiKeyCredentials"
   ]
  },
  {
   "cell_type": "code",
   "execution_count": 3,
   "id": "31044d7b-f209-4ead-bce4-2a61405fa983",
   "metadata": {},
   "outputs": [],
   "source": [
    "TRAINING_ENDPOINT = \"YOUR_TRAINING_ENDPOINT\"\n",
    "training_key = \"YOUR_TRAINING_KEY\"\n",
    "training_resource_id = 'YOUR_TRAINING_RESOURCE_ID'"
   ]
  },
  {
   "cell_type": "code",
   "execution_count": 4,
   "id": "420dd710-504b-4012-9dad-429be5302bef",
   "metadata": {},
   "outputs": [],
   "source": [
    "PREDICTION_ENDPOINT = 'YOUR_PREDICTION_ENDPOINT'\n",
    "prediction_key = \"YOUR_PREDICTION_KEY\"\n",
    "prediction_resource_id = \"YOUR_PREDICTION_RESOURCE_ID\""
   ]
  },
  {
   "cell_type": "code",
   "execution_count": 5,
   "id": "5ec238c5-4e00-4448-b042-9c05dd0d8a96",
   "metadata": {},
   "outputs": [],
   "source": [
    "training_credentials = ApiKeyCredentials(in_headers={\"Training-key\": training_key})\n",
    "trainer = CustomVisionTrainingClient(TRAINING_ENDPOINT, training_credentials)"
   ]
  },
  {
   "cell_type": "code",
   "execution_count": 6,
   "id": "7483f89d-75d9-405e-8964-422a7d364301",
   "metadata": {},
   "outputs": [
    {
     "data": {
      "text/plain": [
       "'3.4-preview'"
      ]
     },
     "execution_count": 6,
     "metadata": {},
     "output_type": "execute_result"
    }
   ],
   "source": [
    "    trainer.api_version"
   ]
  },
  {
   "cell_type": "code",
   "execution_count": 7,
   "id": "c8f5e259-90da-4d74-a511-ac4d4b001022",
   "metadata": {},
   "outputs": [
    {
     "name": "stdout",
     "output_type": "stream",
     "text": [
      "Your Object Detection Training project has been created. Please move on.\n"
     ]
    }
   ],
   "source": [
    "# Find the object detection domain\n",
    "obj_detection_domain = next(domain for domain in trainer.get_domains() if domain.type == \"ObjectDetection\" and domain.name == \"General\")\n",
    "\n",
    "# Create a new project\n",
    "print (\"Your Object Detection Training project has been created. Please move on.\")\n",
    "project_name = \"Lighter detection\"\n",
    "project = trainer.create_project(project_name, domain_id=obj_detection_domain.id)"
   ]
  },
  {
   "cell_type": "code",
   "execution_count": 8,
   "id": "6d123ae3-f7dd-4c26-9620-6a163c7dcf2c",
   "metadata": {},
   "outputs": [
    {
     "data": {
      "text/plain": [
       "'Succeeded'"
      ]
     },
     "execution_count": 8,
     "metadata": {},
     "output_type": "execute_result"
    }
   ],
   "source": [
    "project.status"
   ]
  },
  {
   "cell_type": "code",
   "execution_count": 9,
   "id": "2e16f5ec-dfab-4655-9df8-10d442e775a5",
   "metadata": {},
   "outputs": [],
   "source": [
    "lighter_tag = trainer.create_tag(project.id, \"Lighter\")"
   ]
  },
  {
   "cell_type": "code",
   "execution_count": 16,
   "id": "a24d7413-dc79-440a-8db9-50e960758f80",
   "metadata": {},
   "outputs": [
    {
     "name": "stdout",
     "output_type": "stream",
     "text": [
      "Training status: Training\n",
      "Waiting 10 seconds...\n",
      "Training status: Training\n",
      "Waiting 10 seconds...\n",
      "Training status: Training\n",
      "Waiting 10 seconds...\n",
      "Training status: Training\n",
      "Waiting 10 seconds...\n",
      "Training status: Training\n",
      "Waiting 10 seconds...\n",
      "Training status: Training\n",
      "Waiting 10 seconds...\n",
      "Training status: Training\n",
      "Waiting 10 seconds...\n",
      "Training status: Training\n",
      "Waiting 10 seconds...\n",
      "Training status: Training\n",
      "Waiting 10 seconds...\n",
      "Training status: Training\n",
      "Waiting 10 seconds...\n",
      "Training status: Training\n",
      "Waiting 10 seconds...\n",
      "Training status: Training\n",
      "Waiting 10 seconds...\n",
      "Training status: Training\n",
      "Waiting 10 seconds...\n",
      "Training status: Training\n",
      "Waiting 10 seconds...\n",
      "Training status: Training\n",
      "Waiting 10 seconds...\n",
      "Training status: Training\n",
      "Waiting 10 seconds...\n",
      "Training status: Training\n",
      "Waiting 10 seconds...\n",
      "Training status: Training\n",
      "Waiting 10 seconds...\n",
      "Training status: Training\n",
      "Waiting 10 seconds...\n",
      "Training status: Training\n",
      "Waiting 10 seconds...\n",
      "Training status: Training\n",
      "Waiting 10 seconds...\n",
      "Training status: Training\n",
      "Waiting 10 seconds...\n",
      "Training status: Training\n",
      "Waiting 10 seconds...\n",
      "Training status: Training\n",
      "Waiting 10 seconds...\n",
      "Training status: Training\n",
      "Waiting 10 seconds...\n",
      "Training status: Training\n",
      "Waiting 10 seconds...\n",
      "Training status: Training\n",
      "Waiting 10 seconds...\n",
      "Training status: Training\n",
      "Waiting 10 seconds...\n",
      "Training status: Training\n",
      "Waiting 10 seconds...\n",
      "Training status: Training\n",
      "Waiting 10 seconds...\n",
      "Training status: Training\n",
      "Waiting 10 seconds...\n",
      "Training status: Training\n",
      "Waiting 10 seconds...\n",
      "Training status: Training\n",
      "Waiting 10 seconds...\n",
      "Training status: Training\n",
      "Waiting 10 seconds...\n",
      "Training status: Training\n",
      "Waiting 10 seconds...\n",
      "Training status: Training\n",
      "Waiting 10 seconds...\n",
      "Training status: Training\n",
      "Waiting 10 seconds...\n",
      "Training status: Training\n",
      "Waiting 10 seconds...\n",
      "Training status: Training\n",
      "Waiting 10 seconds...\n",
      "Training status: Training\n",
      "Waiting 10 seconds...\n",
      "Training status: Completed\n",
      "Waiting 10 seconds...\n"
     ]
    }
   ],
   "source": [
    "iteration = trainer.train_project(project.id)\n",
    "while (iteration.status != \"Completed\"):\n",
    "    iteration = trainer.get_iteration(project.id, iteration.id)\n",
    "    print (\"Training status: \" + iteration.status)\n",
    "    print (\"Waiting 10 seconds...\")\n",
    "    time.sleep(10)"
   ]
  },
  {
   "cell_type": "code",
   "execution_count": 48,
   "id": "082b3dff-7e95-4284-9e89-b6350d4ae96b",
   "metadata": {},
   "outputs": [
    {
     "data": {
      "text/plain": [
       "{'id': 'e36edadf-2028-4b0f-826b-cfa6a0e2bedd',\n",
       " 'name': 'Iteration 2',\n",
       " 'status': 'Completed',\n",
       " 'created': '2022-11-01T12:59:51.473Z',\n",
       " 'last_modified': '2022-11-01T13:51:27.925Z',\n",
       " 'trained_at': '2022-11-01T13:51:27.920Z',\n",
       " 'project_id': '2580b9ba-4c18-4aa4-bc18-cf074bdd36d3',\n",
       " 'exportable': False,\n",
       " 'domain_id': 'da2e3a8a-40a5-4171-82f4-58522f70fbc1',\n",
       " 'training_type': 'Regular',\n",
       " 'reserved_budget_in_hours': 0,\n",
       " 'training_time_in_minutes': 3}"
      ]
     },
     "execution_count": 48,
     "metadata": {},
     "output_type": "execute_result"
    }
   ],
   "source": [
    "iteration.as_dict()"
   ]
  },
  {
   "cell_type": "code",
   "execution_count": 53,
   "id": "6fcdc0d7-4e35-4495-ae84-4d0f2002fa5a",
   "metadata": {},
   "outputs": [
    {
     "name": "stdout",
     "output_type": "stream",
     "text": [
      "{'additional_properties': {}, 'id': 'cce6b14a-86e5-4327-b364-6df33609055f', 'name': 'Iteration 3', 'status': 'Completed', 'created': datetime.datetime(2022, 11, 1, 13, 44, 47, 983000, tzinfo=<isodate.tzinfo.Utc object at 0x0000025E98347CD0>), 'last_modified': datetime.datetime(2022, 11, 1, 14, 2, 58, 631000, tzinfo=<isodate.tzinfo.Utc object at 0x0000025E98347CD0>), 'trained_at': datetime.datetime(2022, 11, 1, 14, 2, 58, 626000, tzinfo=<isodate.tzinfo.Utc object at 0x0000025E98347CD0>), 'project_id': '2580b9ba-4c18-4aa4-bc18-cf074bdd36d3', 'exportable': False, 'exportable_to': None, 'domain_id': 'da2e3a8a-40a5-4171-82f4-58522f70fbc1', 'classification_type': None, 'training_type': 'Regular', 'reserved_budget_in_hours': 0, 'training_time_in_minutes': 3, 'publish_name': None, 'original_publish_resource_id': None, 'custom_base_model_info': None, 'training_error_details': None}\n",
      "=====================================\n",
      "{'additional_properties': {}, 'id': 'e36edadf-2028-4b0f-826b-cfa6a0e2bedd', 'name': 'Iteration 2', 'status': 'Completed', 'created': datetime.datetime(2022, 11, 1, 12, 59, 51, 473000, tzinfo=<isodate.tzinfo.Utc object at 0x0000025E98347CD0>), 'last_modified': datetime.datetime(2022, 11, 1, 13, 51, 27, 925000, tzinfo=<isodate.tzinfo.Utc object at 0x0000025E98347CD0>), 'trained_at': datetime.datetime(2022, 11, 1, 13, 51, 27, 920000, tzinfo=<isodate.tzinfo.Utc object at 0x0000025E98347CD0>), 'project_id': '2580b9ba-4c18-4aa4-bc18-cf074bdd36d3', 'exportable': False, 'exportable_to': None, 'domain_id': 'da2e3a8a-40a5-4171-82f4-58522f70fbc1', 'classification_type': None, 'training_type': 'Regular', 'reserved_budget_in_hours': 0, 'training_time_in_minutes': 3, 'publish_name': None, 'original_publish_resource_id': None, 'custom_base_model_info': None, 'training_error_details': None}\n",
      "=====================================\n",
      "{'additional_properties': {}, 'id': 'e7bd8fb4-1368-4565-a90a-d853dfdb8319', 'name': 'Iteration 1', 'status': 'Completed', 'created': datetime.datetime(2022, 11, 1, 12, 44, 41, 210000, tzinfo=<isodate.tzinfo.Utc object at 0x0000025E98347CD0>), 'last_modified': datetime.datetime(2022, 11, 1, 13, 6, 34, 621000, tzinfo=<isodate.tzinfo.Utc object at 0x0000025E98347CD0>), 'trained_at': datetime.datetime(2022, 11, 1, 13, 6, 34, 616000, tzinfo=<isodate.tzinfo.Utc object at 0x0000025E98347CD0>), 'project_id': '2580b9ba-4c18-4aa4-bc18-cf074bdd36d3', 'exportable': False, 'exportable_to': None, 'domain_id': 'da2e3a8a-40a5-4171-82f4-58522f70fbc1', 'classification_type': None, 'training_type': 'Regular', 'reserved_budget_in_hours': 0, 'training_time_in_minutes': 3, 'publish_name': None, 'original_publish_resource_id': None, 'custom_base_model_info': None, 'training_error_details': None}\n",
      "=====================================\n"
     ]
    }
   ],
   "source": [
    "iteration_list = trainer.get_iterations(project.id)\n",
    "train_iteration = []\n",
    "for iteration_item in iteration_list:\n",
    "    print(iteration_item)\n",
    "    train_iteration.append(iteration_item)\n",
    "    print(\"=====================================\")"
   ]
  },
  {
   "cell_type": "code",
   "execution_count": 57,
   "id": "a820a20e-d6bb-49a7-81dd-5de987ddcefa",
   "metadata": {},
   "outputs": [
    {
     "data": {
      "text/plain": [
       "('cce6b14a-86e5-4327-b364-6df33609055f',\n",
       " 'cce6b14a-86e5-4327-b364-6df33609055f')"
      ]
     },
     "execution_count": 57,
     "metadata": {},
     "output_type": "execute_result"
    }
   ],
   "source": [
    "train_iteration[0].id, iteration_list[0].id"
   ]
  },
  {
   "cell_type": "code",
   "execution_count": 58,
   "id": "9c195737-60b2-456b-8b4a-986ba3e50041",
   "metadata": {},
   "outputs": [],
   "source": [
    "model_perf = trainer.get_iteration_performance(project.id, iteration_list[0].id)"
   ]
  },
  {
   "cell_type": "code",
   "execution_count": 59,
   "id": "657e572c-d1b8-45d5-af6d-d474e4ebc195",
   "metadata": {},
   "outputs": [
    {
     "data": {
      "text/plain": [
       "{'per_tag_performance': [{'id': '5da234ae-2090-45eb-9d69-22a7a79237e3',\n",
       "   'name': 'Lighter',\n",
       "   'precision': 1.0,\n",
       "   'precision_std_deviation': 0.0,\n",
       "   'recall': 0.3846154,\n",
       "   'recall_std_deviation': 0.0,\n",
       "   'average_precision': 0.7761013}],\n",
       " 'precision': 1.0,\n",
       " 'precision_std_deviation': 0.0,\n",
       " 'recall': 0.3846154,\n",
       " 'recall_std_deviation': 0.0,\n",
       " 'average_precision': 0.7761013}"
      ]
     },
     "execution_count": 59,
     "metadata": {},
     "output_type": "execute_result"
    }
   ],
   "source": [
    "model_perf.as_dict()"
   ]
  },
  {
   "attachments": {},
   "cell_type": "markdown",
   "id": "de1cea36-780b-4edd-a591-5bfdef31ac97",
   "metadata": {},
   "source": [
    "### Publish the model"
   ]
  },
  {
   "cell_type": "code",
   "execution_count": 61,
   "id": "f60e6c58-2a1d-497f-bafd-6902e5f90cd5",
   "metadata": {},
   "outputs": [
    {
     "data": {
      "text/plain": [
       "'cce6b14a-86e5-4327-b364-6df33609055f'"
      ]
     },
     "execution_count": 61,
     "metadata": {},
     "output_type": "execute_result"
    }
   ],
   "source": [
    "# iteration_id = model_perf.as_dict()['per_tag_performance'][0]['id']\n",
    "iteration_id = iteration_list[0].id\n",
    "iteration_id"
   ]
  },
  {
   "cell_type": "code",
   "execution_count": 62,
   "id": "4a81d0ac-4273-4d54-9dc4-46ac5c67e5cc",
   "metadata": {},
   "outputs": [],
   "source": [
    "publish_iteration_name = \"lighter-object-detection-custom\""
   ]
  },
  {
   "cell_type": "code",
   "execution_count": 63,
   "id": "10295c99-4f27-4e65-87b8-c057c4d6481f",
   "metadata": {},
   "outputs": [
    {
     "name": "stdout",
     "output_type": "stream",
     "text": [
      "Done!\n"
     ]
    }
   ],
   "source": [
    "trainer.publish_iteration(project.id, iteration_id, publish_iteration_name, prediction_resource_id)\n",
    "print (\"Done!\")"
   ]
  },
  {
   "attachments": {},
   "cell_type": "markdown",
   "id": "fc38da6f-e627-49f2-90a5-787e810d6c9d",
   "metadata": {},
   "source": [
    "### Perform Prediction"
   ]
  },
  {
   "cell_type": "code",
   "execution_count": 64,
   "id": "8cee416c-e970-4afe-9f4f-010cdcbdf309",
   "metadata": {},
   "outputs": [],
   "source": [
    "prediction_credentials = ApiKeyCredentials(in_headers={\"Prediction-key\": prediction_key})\n",
    "predictor = CustomVisionPredictionClient(PREDICTION_ENDPOINT, prediction_credentials)"
   ]
  },
  {
   "cell_type": "code",
   "execution_count": 69,
   "id": "fb0c19c3-eb3d-4ca9-92d3-44ad782c192a",
   "metadata": {},
   "outputs": [],
   "source": [
    "local_image_path = 'lighter_test_images'"
   ]
  },
  {
   "cell_type": "code",
   "execution_count": 70,
   "id": "16d2c6b2-f968-4b20-84e0-b5aadef7630a",
   "metadata": {},
   "outputs": [],
   "source": [
    "def perform_prediction(image_file_name):\n",
    "    with open(os.path.join (local_image_path,  image_file_name), \"rb\") as image_contents:\n",
    "        results = predictor.detect_image(project.id, publish_iteration_name, image_contents.read())\n",
    "        # Display the results.\n",
    "        for prediction in results.predictions:\n",
    "            print(\"\\t\" + prediction.tag_name +\n",
    "                  \": {0:.2f}%\".format(prediction.probability * 100))"
   ]
  },
  {
   "cell_type": "code",
   "execution_count": 71,
   "id": "ba21ca52-5b91-4717-b7f9-78d4c7e3b97d",
   "metadata": {},
   "outputs": [],
   "source": [
    "file_name = \"lighter_test_set_1of5.jpg\""
   ]
  },
  {
   "cell_type": "code",
   "execution_count": 72,
   "id": "079aae06-c1a0-4395-8e01-a75e10c7a40a",
   "metadata": {},
   "outputs": [
    {
     "name": "stdout",
     "output_type": "stream",
     "text": [
      "\tLighter: 65.39%\n",
      "\tLighter: 11.85%\n",
      "\tLighter: 9.99%\n",
      "\tLighter: 5.93%\n",
      "\tLighter: 5.77%\n",
      "\tLighter: 3.31%\n",
      "\tLighter: 2.74%\n",
      "\tLighter: 2.39%\n",
      "\tLighter: 2.01%\n",
      "\tLighter: 1.99%\n",
      "\tLighter: 1.97%\n",
      "\tLighter: 1.60%\n",
      "\tLighter: 1.52%\n",
      "\tLighter: 1.46%\n",
      "\tLighter: 1.37%\n",
      "\tLighter: 1.23%\n",
      "\tLighter: 1.15%\n",
      "\tLighter: 1.11%\n",
      "\tLighter: 1.09%\n",
      "\tLighter: 1.06%\n",
      "\tLighter: 0.99%\n",
      "\tLighter: 0.89%\n",
      "\tLighter: 0.89%\n",
      "\tLighter: 0.86%\n",
      "\tLighter: 0.83%\n",
      "\tLighter: 0.82%\n",
      "\tLighter: 0.82%\n",
      "\tLighter: 0.82%\n",
      "\tLighter: 0.79%\n",
      "\tLighter: 0.78%\n",
      "\tLighter: 0.77%\n",
      "\tLighter: 0.72%\n",
      "\tLighter: 0.72%\n",
      "\tLighter: 0.70%\n",
      "\tLighter: 0.70%\n",
      "\tLighter: 0.69%\n",
      "\tLighter: 0.68%\n",
      "\tLighter: 0.64%\n",
      "\tLighter: 0.63%\n",
      "\tLighter: 0.60%\n",
      "\tLighter: 0.60%\n",
      "\tLighter: 0.59%\n",
      "\tLighter: 0.58%\n",
      "\tLighter: 0.58%\n",
      "\tLighter: 0.55%\n",
      "\tLighter: 0.54%\n",
      "\tLighter: 0.54%\n",
      "\tLighter: 0.54%\n",
      "\tLighter: 0.53%\n",
      "\tLighter: 0.52%\n"
     ]
    }
   ],
   "source": [
    "perform_prediction(file_name)"
   ]
  },
  {
   "cell_type": "code",
   "execution_count": 74,
   "id": "76c0926e-6f0c-43e1-91fe-f37518f60175",
   "metadata": {},
   "outputs": [],
   "source": [
    "import glob, os, sys, time, uuid"
   ]
  },
  {
   "cell_type": "code",
   "execution_count": 79,
   "id": "b9bbf113-dffa-47d9-a5d0-69fcf446944b",
   "metadata": {},
   "outputs": [
    {
     "data": {
      "text/plain": [
       "['lighter_test_set_1of5.jpg',\n",
       " 'lighter_test_set_2of5.jpg',\n",
       " 'lighter_test_set_3of5.jpg',\n",
       " 'lighter_test_set_4of5.jpg',\n",
       " 'lighter_test_set_5of5.jpg']"
      ]
     },
     "execution_count": 79,
     "metadata": {},
     "output_type": "execute_result"
    }
   ],
   "source": [
    "human_face_images = os.listdir('lighter_test_images')\n",
    "human_face_images"
   ]
  },
  {
   "cell_type": "code",
   "execution_count": 92,
   "id": "f7755640-f262-4064-ac34-1862ad617c19",
   "metadata": {},
   "outputs": [],
   "source": [
    "def perform_prediction_on_multiple_images(image_folder):\n",
    "    image_list = os.listdir(image_folder)\n",
    "    for image_file_name in image_list:\n",
    "        with open(os.path.join (image_folder,  image_file_name), \"rb\") as image_contents:\n",
    "            results = predictor.detect_image(project.id, publish_iteration_name, image_contents.read())\n",
    "            # Display the results.\n",
    "            for prediction in results.predictions:\n",
    "                print(\"\\t\" + prediction.tag_name + \": {0:.2f}% bbox.left = {1:.2f}, bbox.top = {2:.2f}, bbox.width = {3:.2f}, bbox.height = {4:.2f}\".format(prediction.probability * 100, prediction.bounding_box.left, prediction.bounding_box.top, prediction.bounding_box.width, prediction.bounding_box.height))\n",
    "            print(f\"=================== Image name => {image_file_name} ======================================================\")"
   ]
  },
  {
   "cell_type": "code",
   "execution_count": 93,
   "id": "46670af8-453e-40fa-a82a-c7d2adb0f884",
   "metadata": {},
   "outputs": [
    {
     "name": "stdout",
     "output_type": "stream",
     "text": [
      "\tLighter: 65.39% bbox.left = 0.33, bbox.top = 0.05, bbox.width = 0.67, bbox.height = 0.91\n",
      "\tLighter: 11.85% bbox.left = 0.10, bbox.top = 0.11, bbox.width = 0.33, bbox.height = 0.76\n",
      "\tLighter: 9.99% bbox.left = 0.35, bbox.top = 0.62, bbox.width = 0.45, bbox.height = 0.36\n",
      "\tLighter: 5.93% bbox.left = 0.15, bbox.top = 0.77, bbox.width = 0.05, bbox.height = 0.09\n",
      "\tLighter: 5.77% bbox.left = 0.10, bbox.top = 0.77, bbox.width = 0.05, bbox.height = 0.09\n",
      "\tLighter: 3.31% bbox.left = 0.15, bbox.top = 0.69, bbox.width = 0.05, bbox.height = 0.09\n",
      "\tLighter: 2.74% bbox.left = 0.10, bbox.top = 0.82, bbox.width = 0.05, bbox.height = 0.10\n",
      "\tLighter: 2.39% bbox.left = 0.26, bbox.top = 0.44, bbox.width = 0.05, bbox.height = 0.10\n",
      "\tLighter: 2.01% bbox.left = 0.15, bbox.top = 0.83, bbox.width = 0.05, bbox.height = 0.09\n",
      "\tLighter: 1.99% bbox.left = 0.10, bbox.top = 0.69, bbox.width = 0.05, bbox.height = 0.09\n",
      "\tLighter: 1.97% bbox.left = 0.20, bbox.top = 0.77, bbox.width = 0.05, bbox.height = 0.09\n",
      "\tLighter: 1.60% bbox.left = 0.25, bbox.top = 0.75, bbox.width = 0.05, bbox.height = 0.09\n",
      "\tLighter: 1.52% bbox.left = 0.42, bbox.top = 0.18, bbox.width = 0.51, bbox.height = 0.48\n",
      "\tLighter: 1.46% bbox.left = 0.25, bbox.top = 0.70, bbox.width = 0.05, bbox.height = 0.09\n",
      "\tLighter: 1.37% bbox.left = 0.59, bbox.top = 0.54, bbox.width = 0.06, bbox.height = 0.09\n",
      "\tLighter: 1.23% bbox.left = 0.09, bbox.top = 0.65, bbox.width = 0.16, bbox.height = 0.31\n",
      "\tLighter: 1.15% bbox.left = 0.00, bbox.top = 0.43, bbox.width = 0.04, bbox.height = 0.13\n",
      "\tLighter: 1.11% bbox.left = 0.15, bbox.top = 0.62, bbox.width = 0.05, bbox.height = 0.08\n",
      "\tLighter: 1.09% bbox.left = 0.20, bbox.top = 0.69, bbox.width = 0.05, bbox.height = 0.08\n",
      "\tLighter: 1.06% bbox.left = 0.00, bbox.top = 0.36, bbox.width = 0.04, bbox.height = 0.14\n",
      "\tLighter: 0.99% bbox.left = 0.09, bbox.top = 0.48, bbox.width = 0.17, bbox.height = 0.34\n",
      "\tLighter: 0.89% bbox.left = 0.75, bbox.top = 0.53, bbox.width = 0.05, bbox.height = 0.09\n",
      "\tLighter: 0.89% bbox.left = 0.10, bbox.top = 0.62, bbox.width = 0.04, bbox.height = 0.08\n",
      "\tLighter: 0.86% bbox.left = 0.30, bbox.top = 0.76, bbox.width = 0.06, bbox.height = 0.09\n",
      "\tLighter: 0.83% bbox.left = 0.00, bbox.top = 0.60, bbox.width = 0.05, bbox.height = 0.11\n",
      "\tLighter: 0.82% bbox.left = 0.39, bbox.top = 0.83, bbox.width = 0.06, bbox.height = 0.10\n",
      "\tLighter: 0.82% bbox.left = 0.59, bbox.top = 0.31, bbox.width = 0.18, bbox.height = 0.37\n",
      "\tLighter: 0.82% bbox.left = 0.00, bbox.top = 0.52, bbox.width = 0.04, bbox.height = 0.11\n",
      "\tLighter: 0.79% bbox.left = 0.75, bbox.top = 0.61, bbox.width = 0.05, bbox.height = 0.09\n",
      "\tLighter: 0.78% bbox.left = 0.35, bbox.top = 0.66, bbox.width = 0.16, bbox.height = 0.31\n",
      "\tLighter: 0.77% bbox.left = 0.19, bbox.top = 0.61, bbox.width = 0.05, bbox.height = 0.09\n",
      "\tLighter: 0.72% bbox.left = 0.95, bbox.top = 0.60, bbox.width = 0.05, bbox.height = 0.09\n",
      "\tLighter: 0.72% bbox.left = 0.79, bbox.top = 0.09, bbox.width = 0.17, bbox.height = 0.36\n",
      "\tLighter: 0.70% bbox.left = 0.19, bbox.top = 0.57, bbox.width = 0.17, bbox.height = 0.32\n",
      "\tLighter: 0.70% bbox.left = 0.00, bbox.top = 0.11, bbox.width = 0.76, bbox.height = 0.77\n",
      "\tLighter: 0.69% bbox.left = 0.04, bbox.top = 0.53, bbox.width = 0.47, bbox.height = 0.39\n",
      "\tLighter: 0.68% bbox.left = 0.00, bbox.top = 0.29, bbox.width = 0.04, bbox.height = 0.13\n",
      "\tLighter: 0.64% bbox.left = 0.04, bbox.top = 0.57, bbox.width = 0.17, bbox.height = 0.34\n",
      "\tLighter: 0.63% bbox.left = 0.44, bbox.top = 0.76, bbox.width = 0.06, bbox.height = 0.11\n",
      "\tLighter: 0.60% bbox.left = 0.79, bbox.top = 0.64, bbox.width = 0.17, bbox.height = 0.33\n",
      "\tLighter: 0.60% bbox.left = 0.90, bbox.top = 0.60, bbox.width = 0.06, bbox.height = 0.09\n",
      "\tLighter: 0.59% bbox.left = 0.05, bbox.top = 0.31, bbox.width = 0.16, bbox.height = 0.38\n",
      "\tLighter: 0.58% bbox.left = 0.90, bbox.top = 0.53, bbox.width = 0.06, bbox.height = 0.10\n",
      "\tLighter: 0.58% bbox.left = 0.75, bbox.top = 0.67, bbox.width = 0.05, bbox.height = 0.10\n",
      "\tLighter: 0.55% bbox.left = 0.15, bbox.top = 0.54, bbox.width = 0.05, bbox.height = 0.08\n",
      "\tLighter: 0.54% bbox.left = 0.35, bbox.top = 0.61, bbox.width = 0.05, bbox.height = 0.08\n",
      "\tLighter: 0.54% bbox.left = 0.78, bbox.top = 0.00, bbox.width = 0.18, bbox.height = 0.28\n",
      "\tLighter: 0.54% bbox.left = 0.30, bbox.top = 0.69, bbox.width = 0.05, bbox.height = 0.09\n",
      "\tLighter: 0.53% bbox.left = 0.75, bbox.top = 0.45, bbox.width = 0.05, bbox.height = 0.09\n",
      "\tLighter: 0.52% bbox.left = 0.00, bbox.top = 0.29, bbox.width = 0.08, bbox.height = 0.41\n",
      "=================== Image name => lighter_test_set_1of5.jpg ======================================================\n",
      "\tLighter: 21.14% bbox.left = 0.26, bbox.top = 0.06, bbox.width = 0.51, bbox.height = 0.59\n",
      "\tLighter: 16.16% bbox.left = 0.29, bbox.top = 0.35, bbox.width = 0.54, bbox.height = 0.26\n",
      "\tLighter: 14.86% bbox.left = 0.31, bbox.top = 0.55, bbox.width = 0.25, bbox.height = 0.28\n",
      "\tLighter: 4.49% bbox.left = 0.00, bbox.top = 0.00, bbox.width = 0.18, bbox.height = 0.19\n",
      "\tLighter: 3.86% bbox.left = 0.28, bbox.top = 0.43, bbox.width = 0.56, bbox.height = 0.31\n",
      "\tLighter: 2.38% bbox.left = 0.00, bbox.top = 0.00, bbox.width = 0.08, bbox.height = 0.09\n",
      "\tLighter: 2.22% bbox.left = 0.27, bbox.top = 0.53, bbox.width = 0.21, bbox.height = 0.22\n",
      "\tLighter: 1.87% bbox.left = 0.46, bbox.top = 0.35, bbox.width = 0.21, bbox.height = 0.24\n",
      "\tLighter: 1.79% bbox.left = 0.51, bbox.top = 0.59, bbox.width = 0.24, bbox.height = 0.21\n",
      "\tLighter: 1.56% bbox.left = 0.08, bbox.top = 0.39, bbox.width = 0.92, bbox.height = 0.60\n",
      "\tLighter: 1.54% bbox.left = 0.06, bbox.top = 0.00, bbox.width = 0.94, bbox.height = 0.53\n",
      "\tLighter: 1.49% bbox.left = 0.00, bbox.top = 0.76, bbox.width = 0.07, bbox.height = 0.10\n",
      "\tLighter: 1.30% bbox.left = 0.45, bbox.top = 0.72, bbox.width = 0.09, bbox.height = 0.08\n",
      "\tLighter: 1.24% bbox.left = 0.42, bbox.top = 0.28, bbox.width = 0.41, bbox.height = 0.60\n",
      "\tLighter: 1.16% bbox.left = 0.47, bbox.top = 0.18, bbox.width = 0.20, bbox.height = 0.23\n",
      "\tLighter: 1.10% bbox.left = 0.47, bbox.top = 0.55, bbox.width = 0.07, bbox.height = 0.07\n",
      "\tLighter: 1.09% bbox.left = 0.52, bbox.top = 0.66, bbox.width = 0.08, bbox.height = 0.08\n",
      "\tLighter: 1.01% bbox.left = 0.39, bbox.top = 0.55, bbox.width = 0.08, bbox.height = 0.08\n",
      "\tLighter: 0.92% bbox.left = 0.40, bbox.top = 0.72, bbox.width = 0.07, bbox.height = 0.06\n",
      "\tLighter: 0.91% bbox.left = 0.46, bbox.top = 0.60, bbox.width = 0.07, bbox.height = 0.07\n",
      "\tLighter: 0.89% bbox.left = 0.22, bbox.top = 0.03, bbox.width = 0.69, bbox.height = 0.32\n",
      "\tLighter: 0.86% bbox.left = 0.26, bbox.top = 0.49, bbox.width = 0.07, bbox.height = 0.07\n",
      "\tLighter: 0.82% bbox.left = 0.27, bbox.top = 0.80, bbox.width = 0.20, bbox.height = 0.20\n",
      "\tLighter: 0.78% bbox.left = 0.23, bbox.top = 0.33, bbox.width = 0.39, bbox.height = 0.64\n",
      "\tLighter: 0.78% bbox.left = 0.51, bbox.top = 0.41, bbox.width = 0.24, bbox.height = 0.23\n",
      "\tLighter: 0.74% bbox.left = 0.60, bbox.top = 0.60, bbox.width = 0.08, bbox.height = 0.08\n",
      "\tLighter: 0.71% bbox.left = 0.25, bbox.top = 0.17, bbox.width = 0.61, bbox.height = 0.28\n",
      "\tLighter: 0.69% bbox.left = 0.32, bbox.top = 0.35, bbox.width = 0.22, bbox.height = 0.24\n",
      "\tLighter: 0.67% bbox.left = 0.33, bbox.top = 0.66, bbox.width = 0.07, bbox.height = 0.06\n",
      "\tLighter: 0.67% bbox.left = 0.59, bbox.top = 0.65, bbox.width = 0.08, bbox.height = 0.08\n",
      "\tLighter: 0.63% bbox.left = 0.33, bbox.top = 0.77, bbox.width = 0.07, bbox.height = 0.06\n",
      "\tLighter: 0.62% bbox.left = 0.46, bbox.top = 0.49, bbox.width = 0.07, bbox.height = 0.07\n",
      "\tLighter: 0.62% bbox.left = 0.65, bbox.top = 0.15, bbox.width = 0.21, bbox.height = 0.22\n",
      "\tLighter: 0.59% bbox.left = 0.40, bbox.top = 0.60, bbox.width = 0.07, bbox.height = 0.07\n",
      "\tLighter: 0.55% bbox.left = 0.73, bbox.top = 0.43, bbox.width = 0.08, bbox.height = 0.07\n",
      "\tLighter: 0.55% bbox.left = 0.27, bbox.top = 0.66, bbox.width = 0.07, bbox.height = 0.06\n",
      "\tLighter: 0.54% bbox.left = 0.12, bbox.top = 0.01, bbox.width = 0.22, bbox.height = 0.25\n",
      "\tLighter: 0.54% bbox.left = 0.33, bbox.top = 0.61, bbox.width = 0.07, bbox.height = 0.06\n",
      "\tLighter: 0.54% bbox.left = 0.27, bbox.top = 0.77, bbox.width = 0.07, bbox.height = 0.07\n",
      "\tLighter: 0.53% bbox.left = 0.26, bbox.top = 0.63, bbox.width = 0.21, bbox.height = 0.24\n",
      "\tLighter: 0.53% bbox.left = 0.39, bbox.top = 0.79, bbox.width = 0.21, bbox.height = 0.21\n",
      "\tLighter: 0.52% bbox.left = 0.80, bbox.top = 0.33, bbox.width = 0.07, bbox.height = 0.07\n",
      "\tLighter: 0.52% bbox.left = 0.34, bbox.top = 0.72, bbox.width = 0.06, bbox.height = 0.06\n",
      "\tLighter: 0.52% bbox.left = 0.45, bbox.top = 0.76, bbox.width = 0.08, bbox.height = 0.08\n",
      "\tLighter: 0.51% bbox.left = 0.00, bbox.top = 0.71, bbox.width = 0.07, bbox.height = 0.08\n",
      "\tLighter: 0.50% bbox.left = 0.73, bbox.top = 0.74, bbox.width = 0.21, bbox.height = 0.25\n",
      "=================== Image name => lighter_test_set_2of5.jpg ======================================================\n",
      "\tLighter: 14.28% bbox.left = 0.35, bbox.top = 0.41, bbox.width = 0.51, bbox.height = 0.58\n",
      "\tLighter: 8.73% bbox.left = 0.20, bbox.top = 0.14, bbox.width = 0.69, bbox.height = 0.32\n",
      "\tLighter: 2.61% bbox.left = 0.01, bbox.top = 0.02, bbox.width = 0.99, bbox.height = 0.54\n",
      "\tLighter: 2.16% bbox.left = 0.21, bbox.top = 0.42, bbox.width = 0.66, bbox.height = 0.27\n",
      "\tLighter: 1.96% bbox.left = 0.55, bbox.top = 0.31, bbox.width = 0.39, bbox.height = 0.59\n",
      "\tLighter: 1.62% bbox.left = 0.43, bbox.top = 0.94, bbox.width = 0.08, bbox.height = 0.06\n",
      "\tLighter: 1.60% bbox.left = 0.24, bbox.top = 0.50, bbox.width = 0.43, bbox.height = 0.50\n",
      "\tLighter: 1.34% bbox.left = 0.29, bbox.top = 0.51, bbox.width = 0.63, bbox.height = 0.29\n",
      "\tLighter: 1.18% bbox.left = 0.64, bbox.top = 0.65, bbox.width = 0.24, bbox.height = 0.22\n",
      "\tLighter: 1.14% bbox.left = 0.79, bbox.top = 0.84, bbox.width = 0.07, bbox.height = 0.06\n",
      "\tLighter: 1.13% bbox.left = 0.27, bbox.top = 0.75, bbox.width = 0.24, bbox.height = 0.24\n",
      "\tLighter: 1.08% bbox.left = 0.64, bbox.top = 0.12, bbox.width = 0.23, bbox.height = 0.23\n",
      "\tLighter: 1.06% bbox.left = 0.22, bbox.top = 0.42, bbox.width = 0.07, bbox.height = 0.06\n",
      "\tLighter: 1.02% bbox.left = 0.00, bbox.top = 0.79, bbox.width = 0.06, bbox.height = 0.06\n",
      "\tLighter: 1.02% bbox.left = 0.00, bbox.top = 0.83, bbox.width = 0.06, bbox.height = 0.06\n",
      "\tLighter: 0.98% bbox.left = 0.78, bbox.top = 0.78, bbox.width = 0.08, bbox.height = 0.07\n",
      "\tLighter: 0.94% bbox.left = 0.27, bbox.top = 0.69, bbox.width = 0.07, bbox.height = 0.06\n",
      "\tLighter: 0.92% bbox.left = 0.20, bbox.top = 0.31, bbox.width = 0.69, bbox.height = 0.28\n",
      "\tLighter: 0.88% bbox.left = 0.12, bbox.top = 0.72, bbox.width = 0.69, bbox.height = 0.28\n",
      "\tLighter: 0.84% bbox.left = 0.49, bbox.top = 0.46, bbox.width = 0.08, bbox.height = 0.07\n",
      "\tLighter: 0.81% bbox.left = 0.49, bbox.top = 0.94, bbox.width = 0.08, bbox.height = 0.06\n",
      "\tLighter: 0.79% bbox.left = 0.22, bbox.top = 0.52, bbox.width = 0.06, bbox.height = 0.06\n",
      "\tLighter: 0.76% bbox.left = 0.21, bbox.top = 0.53, bbox.width = 0.20, bbox.height = 0.27\n",
      "\tLighter: 0.70% bbox.left = 0.00, bbox.top = 0.86, bbox.width = 0.23, bbox.height = 0.14\n",
      "\tLighter: 0.70% bbox.left = 0.42, bbox.top = 0.52, bbox.width = 0.07, bbox.height = 0.06\n",
      "\tLighter: 0.70% bbox.left = 0.42, bbox.top = 0.89, bbox.width = 0.09, bbox.height = 0.07\n",
      "\tLighter: 0.68% bbox.left = 0.64, bbox.top = 0.78, bbox.width = 0.08, bbox.height = 0.07\n",
      "\tLighter: 0.65% bbox.left = 0.28, bbox.top = 0.73, bbox.width = 0.08, bbox.height = 0.07\n",
      "\tLighter: 0.65% bbox.left = 0.71, bbox.top = 0.78, bbox.width = 0.08, bbox.height = 0.07\n",
      "\tLighter: 0.65% bbox.left = 0.35, bbox.top = 0.94, bbox.width = 0.08, bbox.height = 0.06\n",
      "\tLighter: 0.65% bbox.left = 0.00, bbox.top = 0.00, bbox.width = 0.15, bbox.height = 0.20\n",
      "\tLighter: 0.62% bbox.left = 0.77, bbox.top = 0.81, bbox.width = 0.23, bbox.height = 0.19\n",
      "\tLighter: 0.61% bbox.left = 0.78, bbox.top = 0.68, bbox.width = 0.08, bbox.height = 0.06\n",
      "\tLighter: 0.61% bbox.left = 0.56, bbox.top = 0.41, bbox.width = 0.08, bbox.height = 0.07\n",
      "\tLighter: 0.60% bbox.left = 0.28, bbox.top = 0.94, bbox.width = 0.08, bbox.height = 0.06\n",
      "\tLighter: 0.58% bbox.left = 0.36, bbox.top = 0.73, bbox.width = 0.07, bbox.height = 0.07\n",
      "\tLighter: 0.56% bbox.left = 0.43, bbox.top = 0.47, bbox.width = 0.08, bbox.height = 0.07\n",
      "\tLighter: 0.56% bbox.left = 0.48, bbox.top = 0.39, bbox.width = 0.26, bbox.height = 0.21\n",
      "\tLighter: 0.54% bbox.left = 0.79, bbox.top = 0.89, bbox.width = 0.08, bbox.height = 0.06\n",
      "\tLighter: 0.54% bbox.left = 0.42, bbox.top = 0.76, bbox.width = 0.22, bbox.height = 0.22\n",
      "\tLighter: 0.53% bbox.left = 0.77, bbox.top = 0.00, bbox.width = 0.23, bbox.height = 0.19\n",
      "\tLighter: 0.53% bbox.left = 0.28, bbox.top = 0.79, bbox.width = 0.07, bbox.height = 0.06\n",
      "\tLighter: 0.52% bbox.left = 0.22, bbox.top = 0.68, bbox.width = 0.07, bbox.height = 0.06\n",
      "\tLighter: 0.52% bbox.left = 0.00, bbox.top = 0.52, bbox.width = 0.13, bbox.height = 0.29\n",
      "\tLighter: 0.52% bbox.left = 0.35, bbox.top = 0.47, bbox.width = 0.08, bbox.height = 0.06\n",
      "\tLighter: 0.52% bbox.left = 0.36, bbox.top = 0.68, bbox.width = 0.07, bbox.height = 0.07\n",
      "\tLighter: 0.52% bbox.left = 0.41, bbox.top = 0.17, bbox.width = 0.24, bbox.height = 0.25\n",
      "\tLighter: 0.51% bbox.left = 0.00, bbox.top = 0.73, bbox.width = 0.07, bbox.height = 0.07\n",
      "\tLighter: 0.51% bbox.left = 0.22, bbox.top = 0.63, bbox.width = 0.22, bbox.height = 0.27\n",
      "\tLighter: 0.51% bbox.left = 0.41, bbox.top = 0.33, bbox.width = 0.25, bbox.height = 0.22\n",
      "\tLighter: 0.50% bbox.left = 0.10, bbox.top = 0.32, bbox.width = 0.90, bbox.height = 0.57\n",
      "=================== Image name => lighter_test_set_3of5.jpg ======================================================\n",
      "\tLighter: 83.30% bbox.left = 0.34, bbox.top = 0.14, bbox.width = 0.50, bbox.height = 0.49\n",
      "\tLighter: 16.93% bbox.left = 0.24, bbox.top = 0.29, bbox.width = 0.57, bbox.height = 0.57\n",
      "\tLighter: 3.08% bbox.left = 0.00, bbox.top = 0.45, bbox.width = 0.98, bbox.height = 0.55\n",
      "\tLighter: 2.78% bbox.left = 0.56, bbox.top = 0.60, bbox.width = 0.22, bbox.height = 0.23\n",
      "\tLighter: 0.95% bbox.left = 0.00, bbox.top = 0.00, bbox.width = 1.00, bbox.height = 0.48\n",
      "\tLighter: 0.82% bbox.left = 0.21, bbox.top = 0.82, bbox.width = 0.21, bbox.height = 0.18\n",
      "\tLighter: 0.79% bbox.left = 0.21, bbox.top = 0.89, bbox.width = 0.08, bbox.height = 0.07\n",
      "\tLighter: 0.78% bbox.left = 0.71, bbox.top = 0.89, bbox.width = 0.08, bbox.height = 0.07\n",
      "\tLighter: 0.73% bbox.left = 0.25, bbox.top = 0.57, bbox.width = 0.27, bbox.height = 0.22\n",
      "\tLighter: 0.67% bbox.left = 0.57, bbox.top = 0.79, bbox.width = 0.08, bbox.height = 0.06\n",
      "\tLighter: 0.65% bbox.left = 0.18, bbox.top = 0.40, bbox.width = 0.70, bbox.height = 0.25\n",
      "\tLighter: 0.64% bbox.left = 0.14, bbox.top = 0.53, bbox.width = 0.23, bbox.height = 0.19\n",
      "\tLighter: 0.64% bbox.left = 0.28, bbox.top = 0.89, bbox.width = 0.08, bbox.height = 0.07\n",
      "\tLighter: 0.62% bbox.left = 0.20, bbox.top = 0.43, bbox.width = 0.27, bbox.height = 0.19\n",
      "\tLighter: 0.59% bbox.left = 0.27, bbox.top = 0.09, bbox.width = 0.68, bbox.height = 0.28\n",
      "\tLighter: 0.55% bbox.left = 0.22, bbox.top = 0.95, bbox.width = 0.07, bbox.height = 0.05\n",
      "\tLighter: 0.53% bbox.left = 0.34, bbox.top = 0.71, bbox.width = 0.24, bbox.height = 0.24\n",
      "=================== Image name => lighter_test_set_4of5.jpg ======================================================\n",
      "\tLighter: 17.38% bbox.left = 0.33, bbox.top = 0.06, bbox.width = 0.67, bbox.height = 0.88\n",
      "\tLighter: 13.99% bbox.left = 0.24, bbox.top = 0.35, bbox.width = 0.49, bbox.height = 0.42\n",
      "\tLighter: 8.67% bbox.left = 0.00, bbox.top = 0.05, bbox.width = 0.62, bbox.height = 0.89\n",
      "\tLighter: 2.12% bbox.left = 0.53, bbox.top = 0.50, bbox.width = 0.19, bbox.height = 0.30\n",
      "\tLighter: 1.86% bbox.left = 0.53, bbox.top = 0.26, bbox.width = 0.20, bbox.height = 0.33\n",
      "\tLighter: 1.13% bbox.left = 0.00, bbox.top = 0.29, bbox.width = 0.04, bbox.height = 0.12\n",
      "\tLighter: 1.13% bbox.left = 0.28, bbox.top = 0.33, bbox.width = 0.18, bbox.height = 0.39\n",
      "\tLighter: 1.01% bbox.left = 0.65, bbox.top = 0.45, bbox.width = 0.06, bbox.height = 0.09\n",
      "\tLighter: 1.00% bbox.left = 0.00, bbox.top = 0.36, bbox.width = 0.04, bbox.height = 0.13\n",
      "\tLighter: 0.82% bbox.left = 0.67, bbox.top = 0.02, bbox.width = 0.31, bbox.height = 0.96\n",
      "\tLighter: 0.81% bbox.left = 0.15, bbox.top = 0.73, bbox.width = 0.16, bbox.height = 0.27\n",
      "\tLighter: 0.77% bbox.left = 0.50, bbox.top = 0.54, bbox.width = 0.05, bbox.height = 0.08\n",
      "\tLighter: 0.75% bbox.left = 0.14, bbox.top = 0.33, bbox.width = 0.17, bbox.height = 0.34\n",
      "\tLighter: 0.73% bbox.left = 0.15, bbox.top = 0.84, bbox.width = 0.05, bbox.height = 0.10\n",
      "\tLighter: 0.71% bbox.left = 0.15, bbox.top = 0.92, bbox.width = 0.05, bbox.height = 0.08\n",
      "\tLighter: 0.70% bbox.left = 0.10, bbox.top = 0.83, bbox.width = 0.06, bbox.height = 0.10\n",
      "\tLighter: 0.69% bbox.left = 0.00, bbox.top = 0.00, bbox.width = 0.16, bbox.height = 0.28\n",
      "\tLighter: 0.65% bbox.left = 0.44, bbox.top = 0.34, bbox.width = 0.16, bbox.height = 0.33\n",
      "\tLighter: 0.64% bbox.left = 0.96, bbox.top = 0.60, bbox.width = 0.04, bbox.height = 0.09\n",
      "\tLighter: 0.59% bbox.left = 0.65, bbox.top = 0.31, bbox.width = 0.05, bbox.height = 0.09\n",
      "\tLighter: 0.58% bbox.left = 0.15, bbox.top = 0.76, bbox.width = 0.06, bbox.height = 0.09\n",
      "\tLighter: 0.57% bbox.left = 0.25, bbox.top = 0.45, bbox.width = 0.06, bbox.height = 0.09\n",
      "\tLighter: 0.56% bbox.left = 0.45, bbox.top = 0.50, bbox.width = 0.16, bbox.height = 0.30\n",
      "\tLighter: 0.55% bbox.left = 0.50, bbox.top = 0.46, bbox.width = 0.05, bbox.height = 0.08\n",
      "\tLighter: 0.55% bbox.left = 0.20, bbox.top = 0.83, bbox.width = 0.06, bbox.height = 0.11\n",
      "\tLighter: 0.55% bbox.left = 0.20, bbox.top = 0.92, bbox.width = 0.06, bbox.height = 0.08\n",
      "\tLighter: 0.54% bbox.left = 0.59, bbox.top = 0.39, bbox.width = 0.17, bbox.height = 0.36\n",
      "\tLighter: 0.51% bbox.left = 0.20, bbox.top = 0.45, bbox.width = 0.06, bbox.height = 0.09\n",
      "\tLighter: 0.51% bbox.left = 0.00, bbox.top = 0.44, bbox.width = 0.04, bbox.height = 0.12\n",
      "\tLighter: 0.51% bbox.left = 0.50, bbox.top = 0.38, bbox.width = 0.05, bbox.height = 0.09\n",
      "\tLighter: 0.50% bbox.left = 0.15, bbox.top = 0.68, bbox.width = 0.05, bbox.height = 0.10\n",
      "=================== Image name => lighter_test_set_5of5.jpg ======================================================\n"
     ]
    }
   ],
   "source": [
    "perform_prediction_on_multiple_images(local_image_path)"
   ]
  },
  {
   "cell_type": "code",
   "execution_count": null,
   "id": "590a8efb-6d89-4513-b9ca-784d5fe2ea98",
   "metadata": {},
   "outputs": [],
   "source": []
  }
 ],
 "metadata": {
  "kernelspec": {
   "display_name": "Python 3 (ipykernel)",
   "language": "python",
   "name": "python3"
  },
  "language_info": {
   "codemirror_mode": {
    "name": "ipython",
    "version": 3
   },
   "file_extension": ".py",
   "mimetype": "text/x-python",
   "name": "python",
   "nbconvert_exporter": "python",
   "pygments_lexer": "ipython3",
   "version": "3.9.12"
  }
 },
 "nbformat": 4,
 "nbformat_minor": 5
}
