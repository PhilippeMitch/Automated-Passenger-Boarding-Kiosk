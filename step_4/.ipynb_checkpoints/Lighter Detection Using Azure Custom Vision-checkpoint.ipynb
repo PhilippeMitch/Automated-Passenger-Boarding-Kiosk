{
 "cells": [
  {
   "cell_type": "code",
   "execution_count": 1,
   "id": "7c6a6f92-484a-42b4-8395-c967d513ac42",
   "metadata": {},
   "outputs": [],
   "source": [
    "import requests\n",
    "from urllib.parse import urlparse\n",
    "from io import BytesIO\n",
    "from PIL import Image, ImageDraw\n",
    "import matplotlib.pyplot as plt\n",
    "import os, time, uuid"
   ]
  },
  {
   "cell_type": "code",
   "execution_count": 2,
   "id": "5ffe7b82-ef6e-4e7b-b29d-63aecb0a0d59",
   "metadata": {},
   "outputs": [],
   "source": [
    "from azure.cognitiveservices.vision.customvision.training import CustomVisionTrainingClient\n",
    "from azure.cognitiveservices.vision.customvision.prediction import CustomVisionPredictionClient\n",
    "from msrest.authentication import ApiKeyCredentials"
   ]
  },
  {
   "cell_type": "code",
   "execution_count": 3,
   "id": "31044d7b-f209-4ead-bce4-2a61405fa983",
   "metadata": {},
   "outputs": [],
   "source": [
    "TRAINING_ENDPOINT = \"YOUR_TRAINING_ENDPOINT\"\n",
    "training_key = \"YOUR_TRAINING_KEY\"\n",
    "training_resource_id = 'YOUR_TRAINING_RESOURCE_ID'"
   ]
  },
  {
   "cell_type": "code",
   "execution_count": 4,
   "id": "420dd710-504b-4012-9dad-429be5302bef",
   "metadata": {},
   "outputs": [],
   "source": [
    "PREDICTION_ENDPOINT = 'YOUR_PREDICTION_ENDPOINT'\n",
    "prediction_key = \"YOUR_PREDICTION_KEY\"\n",
    "prediction_resource_id = \"YOUR_PREDICTION_RESOURCE_ID\""
   ]
  },
  {
   "cell_type": "code",
   "execution_count": 5,
   "id": "5ec238c5-4e00-4448-b042-9c05dd0d8a96",
   "metadata": {},
   "outputs": [],
   "source": [
    "training_credentials = ApiKeyCredentials(in_headers={\"Training-key\": training_key})\n",
    "trainer = CustomVisionTrainingClient(TRAINING_ENDPOINT, training_credentials)"
   ]
  },
  {
   "cell_type": "code",
   "execution_count": 6,
   "id": "7483f89d-75d9-405e-8964-422a7d364301",
   "metadata": {},
   "outputs": [
    {
     "data": {
      "text/plain": [
       "'3.4-preview'"
      ]
     },
     "execution_count": 6,
     "metadata": {},
     "output_type": "execute_result"
    }
   ],
   "source": [
    "trainer.api_version"
   ]
  },
  {
   "cell_type": "code",
   "execution_count": 7,
   "id": "c8f5e259-90da-4d74-a511-ac4d4b001022",
   "metadata": {},
   "outputs": [
    {
     "name": "stdout",
     "output_type": "stream",
     "text": [
      "Your Object Detection Training project has been created. Please move on.\n"
     ]
    }
   ],
   "source": [
    "# Find the object detection domain\n",
    "obj_detection_domain = next(domain for domain in trainer.get_domains() if domain.type == \"ObjectDetection\" and domain.name == \"General\")\n",
    "\n",
    "# Create a new project\n",
    "print (\"Your Object Detection Training project has been created. Please move on.\")\n",
    "project_name = \"Lighter detection\"\n",
    "project = trainer.create_project(project_name, domain_id=obj_detection_domain.id)"
   ]
  },
  {
   "cell_type": "code",
   "execution_count": 8,
   "id": "6d123ae3-f7dd-4c26-9620-6a163c7dcf2c",
   "metadata": {},
   "outputs": [
    {
     "data": {
      "text/plain": [
       "'Succeeded'"
      ]
     },
     "execution_count": 8,
     "metadata": {},
     "output_type": "execute_result"
    }
   ],
   "source": [
    "project.status"
   ]
  },
  {
   "cell_type": "code",
   "execution_count": 9,
   "id": "2e16f5ec-dfab-4655-9df8-10d442e775a5",
   "metadata": {},
   "outputs": [],
   "source": [
    "lighter_tag = trainer.create_tag(project.id, \"Lighter\")"
   ]
  },
  {
   "cell_type": "code",
   "execution_count": 10,
   "id": "a24d7413-dc79-440a-8db9-50e960758f80",
   "metadata": {},
   "outputs": [
    {
     "name": "stdout",
     "output_type": "stream",
     "text": [
      "Training status: Training\n",
      "Waiting 10 seconds...\n",
      "Training status: Training\n",
      "Waiting 10 seconds...\n",
      "Training status: Training\n",
      "Waiting 10 seconds...\n",
      "Training status: Training\n",
      "Waiting 10 seconds...\n",
      "Training status: Training\n",
      "Waiting 10 seconds...\n",
      "Training status: Training\n",
      "Waiting 10 seconds...\n",
      "Training status: Training\n",
      "Waiting 10 seconds...\n",
      "Training status: Training\n",
      "Waiting 10 seconds...\n",
      "Training status: Training\n",
      "Waiting 10 seconds...\n",
      "Training status: Training\n",
      "Waiting 10 seconds...\n",
      "Training status: Training\n",
      "Waiting 10 seconds...\n",
      "Training status: Training\n",
      "Waiting 10 seconds...\n",
      "Training status: Training\n",
      "Waiting 10 seconds...\n",
      "Training status: Training\n",
      "Waiting 10 seconds...\n",
      "Training status: Training\n",
      "Waiting 10 seconds...\n",
      "Training status: Training\n",
      "Waiting 10 seconds...\n",
      "Training status: Training\n",
      "Waiting 10 seconds...\n",
      "Training status: Training\n",
      "Waiting 10 seconds...\n",
      "Training status: Training\n",
      "Waiting 10 seconds...\n",
      "Training status: Training\n",
      "Waiting 10 seconds...\n",
      "Training status: Training\n",
      "Waiting 10 seconds...\n",
      "Training status: Training\n",
      "Waiting 10 seconds...\n",
      "Training status: Training\n",
      "Waiting 10 seconds...\n",
      "Training status: Training\n",
      "Waiting 10 seconds...\n",
      "Training status: Training\n",
      "Waiting 10 seconds...\n",
      "Training status: Training\n",
      "Waiting 10 seconds...\n",
      "Training status: Training\n",
      "Waiting 10 seconds...\n",
      "Training status: Training\n",
      "Waiting 10 seconds...\n",
      "Training status: Training\n",
      "Waiting 10 seconds...\n",
      "Training status: Training\n",
      "Waiting 10 seconds...\n",
      "Training status: Training\n",
      "Waiting 10 seconds...\n",
      "Training status: Training\n",
      "Waiting 10 seconds...\n",
      "Training status: Training\n",
      "Waiting 10 seconds...\n",
      "Training status: Training\n",
      "Waiting 10 seconds...\n",
      "Training status: Training\n",
      "Waiting 10 seconds...\n",
      "Training status: Training\n",
      "Waiting 10 seconds...\n",
      "Training status: Training\n",
      "Waiting 10 seconds...\n",
      "Training status: Training\n",
      "Waiting 10 seconds...\n",
      "Training status: Training\n",
      "Waiting 10 seconds...\n",
      "Training status: Training\n",
      "Waiting 10 seconds...\n",
      "Training status: Completed\n",
      "Waiting 10 seconds...\n"
     ]
    }
   ],
   "source": [
    "iteration = trainer.train_project(project.id)\n",
    "while (iteration.status != \"Completed\"):\n",
    "    iteration = trainer.get_iteration(project.id, iteration.id)\n",
    "    print (\"Training status: \" + iteration.status)\n",
    "    print (\"Waiting 10 seconds...\")\n",
    "    time.sleep(10)"
   ]
  },
  {
   "cell_type": "code",
   "execution_count": 11,
   "id": "082b3dff-7e95-4284-9e89-b6350d4ae96b",
   "metadata": {},
   "outputs": [
    {
     "data": {
      "text/plain": [
       "{'id': 'e7bd8fb4-1368-4565-a90a-d853dfdb8319',\n",
       " 'name': 'Iteration 1',\n",
       " 'status': 'Completed',\n",
       " 'created': '2022-11-01T12:44:41.210Z',\n",
       " 'last_modified': '2022-11-01T13:06:34.621Z',\n",
       " 'trained_at': '2022-11-01T13:06:34.616Z',\n",
       " 'project_id': '2580b9ba-4c18-4aa4-bc18-cf074bdd36d3',\n",
       " 'exportable': False,\n",
       " 'domain_id': 'da2e3a8a-40a5-4171-82f4-58522f70fbc1',\n",
       " 'training_type': 'Regular',\n",
       " 'reserved_budget_in_hours': 0,\n",
       " 'training_time_in_minutes': 3}"
      ]
     },
     "execution_count": 11,
     "metadata": {},
     "output_type": "execute_result"
    }
   ],
   "source": [
    "iteration.as_dict()"
   ]
  },
  {
   "cell_type": "code",
   "execution_count": 13,
   "id": "6fcdc0d7-4e35-4495-ae84-4d0f2002fa5a",
   "metadata": {},
   "outputs": [
    {
     "name": "stdout",
     "output_type": "stream",
     "text": [
      "{'additional_properties': {}, 'id': 'e7bd8fb4-1368-4565-a90a-d853dfdb8319', 'name': 'Iteration 1', 'status': 'Completed', 'created': datetime.datetime(2022, 11, 1, 12, 44, 41, 210000, tzinfo=<isodate.tzinfo.Utc object at 0x0000025E98347CD0>), 'last_modified': datetime.datetime(2022, 11, 1, 13, 6, 34, 621000, tzinfo=<isodate.tzinfo.Utc object at 0x0000025E98347CD0>), 'trained_at': datetime.datetime(2022, 11, 1, 13, 6, 34, 616000, tzinfo=<isodate.tzinfo.Utc object at 0x0000025E98347CD0>), 'project_id': '2580b9ba-4c18-4aa4-bc18-cf074bdd36d3', 'exportable': False, 'exportable_to': None, 'domain_id': 'da2e3a8a-40a5-4171-82f4-58522f70fbc1', 'classification_type': None, 'training_type': 'Regular', 'reserved_budget_in_hours': 0, 'training_time_in_minutes': 3, 'publish_name': None, 'original_publish_resource_id': None, 'custom_base_model_info': None, 'training_error_details': None}\n"
     ]
    }
   ],
   "source": [
    "iteration_list = trainer.get_iterations(project.id)\n",
    "for iteration_item in iteration_list:\n",
    "    print(iteration_item)"
   ]
  },
  {
   "cell_type": "code",
   "execution_count": 14,
   "id": "9c195737-60b2-456b-8b4a-986ba3e50041",
   "metadata": {},
   "outputs": [],
   "source": [
    "model_perf = trainer.get_iteration_performance(project.id, iteration_list[0].id)"
   ]
  },
  {
   "cell_type": "code",
   "execution_count": 15,
   "id": "657e572c-d1b8-45d5-af6d-d474e4ebc195",
   "metadata": {},
   "outputs": [
    {
     "data": {
      "text/plain": [
       "{'per_tag_performance': [{'id': '5da234ae-2090-45eb-9d69-22a7a79237e3',\n",
       "   'name': 'Lighter',\n",
       "   'precision': 0.6666667,\n",
       "   'precision_std_deviation': 0.0,\n",
       "   'recall': 0.15384616,\n",
       "   'recall_std_deviation': 0.0,\n",
       "   'average_precision': 0.7390665}],\n",
       " 'precision': 0.6666667,\n",
       " 'precision_std_deviation': 0.0,\n",
       " 'recall': 0.15384616,\n",
       " 'recall_std_deviation': 0.0,\n",
       " 'average_precision': 0.7390665}"
      ]
     },
     "execution_count": 15,
     "metadata": {},
     "output_type": "execute_result"
    }
   ],
   "source": [
    "model_perf.as_dict()"
   ]
  },
  {
   "attachments": {},
   "cell_type": "markdown",
   "id": "fc38da6f-e627-49f2-90a5-787e810d6c9d",
   "metadata": {},
   "source": [
    "### Prediction"
   ]
  },
  {
   "cell_type": "code",
   "execution_count": 12,
   "id": "8cee416c-e970-4afe-9f4f-010cdcbdf309",
   "metadata": {},
   "outputs": [],
   "source": [
    "prediction_credentials = ApiKeyCredentials(in_headers={\"Prediction-key\": prediction_key})\n",
    "predictor = CustomVisionPredictionClient(PREDICTION_ENDPOINT, prediction_credentials)"
   ]
  },
  {
   "cell_type": "code",
   "execution_count": null,
   "id": "fb0c19c3-eb3d-4ca9-92d3-44ad782c192a",
   "metadata": {},
   "outputs": [],
   "source": []
  }
 ],
 "metadata": {
  "kernelspec": {
   "display_name": "Python 3 (ipykernel)",
   "language": "python",
   "name": "python3"
  },
  "language_info": {
   "codemirror_mode": {
    "name": "ipython",
    "version": 3
   },
   "file_extension": ".py",
   "mimetype": "text/x-python",
   "name": "python",
   "nbconvert_exporter": "python",
   "pygments_lexer": "ipython3",
   "version": "3.9.12"
  }
 },
 "nbformat": 4,
 "nbformat_minor": 5
}
